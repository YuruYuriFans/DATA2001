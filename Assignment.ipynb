{
 "cells": [
  {
   "cell_type": "code",
   "execution_count": null,
   "metadata": {},
   "outputs": [],
   "source": []
  },
  {
   "attachments": {},
   "cell_type": "markdown",
   "metadata": {},
   "source": [
    "# 1. Setup"
   ]
  },
  {
   "attachments": {},
   "cell_type": "markdown",
   "metadata": {},
   "source": [
    "Import librarys and load database into juypiter"
   ]
  },
  {
   "attachments": {},
   "cell_type": "markdown",
   "metadata": {},
   "source": [
    "### Connect to data base"
   ]
  },
  {
   "cell_type": "code",
   "execution_count": 18,
   "metadata": {},
   "outputs": [],
   "source": [
    "import psycopg2\n",
    "import psycopg2.extras\n",
    "import json\n",
    "import os\n",
    "import pandas as pd\n",
    "import geopandas as gpd\n",
    "from datetime import datetime\n",
    "from sqlalchemy import text\n",
    "from sqlalchemy import inspect\n",
    "from sqlalchemy import create_engine\n",
    "from shapely.geometry import Point, Polygon, MultiPolygon\n",
    "from geoalchemy2 import Geometry, WKTElement\n",
    "import matplotlib.pyplot as plt\n",
    "\n",
    "credentials = \"Credentials.json\"\n",
    "\n",
    "def pgconnect(credential_filepath, db_schema=\"sydney\"):\n",
    "    with open(credential_filepath) as f:\n",
    "        db_conn_dict = json.load(f)\n",
    "        host       = db_conn_dict['host']\n",
    "        db_user    = db_conn_dict['user']\n",
    "        db_pw      = db_conn_dict['password']\n",
    "        default_db = db_conn_dict['user']\n",
    "        try:\n",
    "            db = create_engine('postgresql+psycopg2://'+db_user+':'+db_pw+'@'+host+'/'+default_db, echo=False)\n",
    "            conn = db.connect()\n",
    "            print('Connected successfully.')\n",
    "        except Exception as e:\n",
    "            print(\"Unable to connect to the database.\")\n",
    "            print(e)\n",
    "            db, conn = None, None\n",
    "        return db,conn\n",
    "    \n",
    "def query(conn, sqlcmd, args=None, df=True):\n",
    "    result = pd.DataFrame() if df else None\n",
    "    try:\n",
    "        if df:\n",
    "            result = pd.read_sql_query(sqlcmd, conn, params=args)\n",
    "        else:\n",
    "            result = conn.execute(text(sqlcmd), args).fetchall()\n",
    "            result = result[0] if len(result) == 1 else result\n",
    "    except Exception as e:\n",
    "        print(\"Error encountered: \", e, sep='\\n')\n",
    "    return result\n",
    "\n",
    "srid = 4326"
   ]
  },
  {
   "cell_type": "code",
   "execution_count": 19,
   "metadata": {},
   "outputs": [
    {
     "name": "stdout",
     "output_type": "stream",
     "text": [
      "Connected successfully.\n"
     ]
    }
   ],
   "source": [
    "db, conn = pgconnect(credentials)"
   ]
  },
  {
   "attachments": {},
   "cell_type": "markdown",
   "metadata": {},
   "source": [
    "### Import data into python and data cleaning"
   ]
  },
  {
   "cell_type": "code",
   "execution_count": 162,
   "metadata": {},
   "outputs": [
    {
     "data": {
      "text/html": [
       "<div>\n",
       "<style scoped>\n",
       "    .dataframe tbody tr th:only-of-type {\n",
       "        vertical-align: middle;\n",
       "    }\n",
       "\n",
       "    .dataframe tbody tr th {\n",
       "        vertical-align: top;\n",
       "    }\n",
       "\n",
       "    .dataframe thead th {\n",
       "        text-align: right;\n",
       "    }\n",
       "</style>\n",
       "<table border=\"1\" class=\"dataframe\">\n",
       "  <thead>\n",
       "    <tr style=\"text-align: right;\">\n",
       "      <th></th>\n",
       "      <th>sa2_code21</th>\n",
       "      <th>sa2_name21</th>\n",
       "      <th>chg_flag21</th>\n",
       "      <th>chg_lbl21</th>\n",
       "      <th>sa3_code21</th>\n",
       "      <th>sa3_name21</th>\n",
       "      <th>sa4_code21</th>\n",
       "      <th>sa4_name21</th>\n",
       "      <th>gcc_code21</th>\n",
       "      <th>gcc_name21</th>\n",
       "      <th>ste_code21</th>\n",
       "      <th>ste_name21</th>\n",
       "      <th>aus_code21</th>\n",
       "      <th>aus_name21</th>\n",
       "      <th>areasqkm21</th>\n",
       "      <th>loci_uri21</th>\n",
       "      <th>geometry</th>\n",
       "      <th>geom</th>\n",
       "    </tr>\n",
       "  </thead>\n",
       "  <tbody>\n",
       "    <tr>\n",
       "      <th>28</th>\n",
       "      <td>102011028</td>\n",
       "      <td>Avoca Beach - Copacabana</td>\n",
       "      <td>0</td>\n",
       "      <td>No change</td>\n",
       "      <td>10201</td>\n",
       "      <td>Gosford</td>\n",
       "      <td>102</td>\n",
       "      <td>Central Coast</td>\n",
       "      <td>1GSYD</td>\n",
       "      <td>Greater Sydney</td>\n",
       "      <td>1</td>\n",
       "      <td>New South Wales</td>\n",
       "      <td>AUS</td>\n",
       "      <td>Australia</td>\n",
       "      <td>6.4376</td>\n",
       "      <td>http://linked.data.gov.au/dataset/asgsed3/SA2/...</td>\n",
       "      <td>POLYGON ((151.41373 -33.46558, 151.41362 -33.4...</td>\n",
       "      <td>MULTIPOLYGON (((151.413733024921 -33.465580583...</td>\n",
       "    </tr>\n",
       "  </tbody>\n",
       "</table>\n",
       "</div>"
      ],
      "text/plain": [
       "   sa2_code21                sa2_name21 chg_flag21  chg_lbl21 sa3_code21  \\\n",
       "28  102011028  Avoca Beach - Copacabana          0  No change      10201   \n",
       "\n",
       "   sa3_name21 sa4_code21     sa4_name21 gcc_code21      gcc_name21 ste_code21  \\\n",
       "28    Gosford        102  Central Coast      1GSYD  Greater Sydney          1   \n",
       "\n",
       "         ste_name21 aus_code21 aus_name21  areasqkm21  \\\n",
       "28  New South Wales        AUS  Australia      6.4376   \n",
       "\n",
       "                                           loci_uri21  \\\n",
       "28  http://linked.data.gov.au/dataset/asgsed3/SA2/...   \n",
       "\n",
       "                                             geometry  \\\n",
       "28  POLYGON ((151.41373 -33.46558, 151.41362 -33.4...   \n",
       "\n",
       "                                                 geom  \n",
       "28  MULTIPOLYGON (((151.413733024921 -33.465580583...  "
      ]
     },
     "execution_count": 162,
     "metadata": {},
     "output_type": "execute_result"
    }
   ],
   "source": [
    "SA2_Regions = gpd.read_file('SA2_2021_AUST_SHP_GDA2020/SA2_2021_AUST_GDA2020.shp')\n",
    "SA2_Regions = SA2_Regions[SA2_Regions['GCC_CODE21'] == \"1GSYD\"]\n",
    "\n",
    "def create_wkt_element(geom, srid):\n",
    "    if geom.geom_type == 'Polygon':\n",
    "        geom = MultiPolygon([geom])\n",
    "    return WKTElement(geom.wkt, srid)\n",
    "SA2_Regionsog = SA2_Regions.copy() \n",
    "SA2_Regions['geom'] = SA2_Regions['geometry'].apply(lambda x: create_wkt_element(geom=x,srid=srid)) \n",
    "SA2_Regions.columns = map(str.lower, SA2_Regions.columns)"
   ]
  },
  {
   "cell_type": "code",
   "execution_count": 163,
   "metadata": {},
   "outputs": [
    {
     "data": {
      "text/html": [
       "<div>\n",
       "<style scoped>\n",
       "    .dataframe tbody tr th:only-of-type {\n",
       "        vertical-align: middle;\n",
       "    }\n",
       "\n",
       "    .dataframe tbody tr th {\n",
       "        vertical-align: top;\n",
       "    }\n",
       "\n",
       "    .dataframe thead th {\n",
       "        text-align: right;\n",
       "    }\n",
       "</style>\n",
       "<table border=\"1\" class=\"dataframe\">\n",
       "  <thead>\n",
       "    <tr style=\"text-align: right;\">\n",
       "      <th></th>\n",
       "      <th>sa2_code21</th>\n",
       "      <th>sa2_name21</th>\n",
       "      <th>chg_flag21</th>\n",
       "      <th>chg_lbl21</th>\n",
       "      <th>sa3_code21</th>\n",
       "      <th>sa3_name21</th>\n",
       "      <th>sa4_code21</th>\n",
       "      <th>sa4_name21</th>\n",
       "      <th>areasqkm21</th>\n",
       "      <th>loci_uri21</th>\n",
       "      <th>geom</th>\n",
       "    </tr>\n",
       "  </thead>\n",
       "  <tbody>\n",
       "    <tr>\n",
       "      <th>28</th>\n",
       "      <td>102011028</td>\n",
       "      <td>Avoca Beach - Copacabana</td>\n",
       "      <td>0</td>\n",
       "      <td>No change</td>\n",
       "      <td>10201</td>\n",
       "      <td>Gosford</td>\n",
       "      <td>102</td>\n",
       "      <td>Central Coast</td>\n",
       "      <td>6.4376</td>\n",
       "      <td>http://linked.data.gov.au/dataset/asgsed3/SA2/...</td>\n",
       "      <td>MULTIPOLYGON (((151.413733024921 -33.465580583...</td>\n",
       "    </tr>\n",
       "  </tbody>\n",
       "</table>\n",
       "</div>"
      ],
      "text/plain": [
       "   sa2_code21                sa2_name21 chg_flag21  chg_lbl21 sa3_code21  \\\n",
       "28  102011028  Avoca Beach - Copacabana          0  No change      10201   \n",
       "\n",
       "   sa3_name21 sa4_code21     sa4_name21  areasqkm21  \\\n",
       "28    Gosford        102  Central Coast      6.4376   \n",
       "\n",
       "                                           loci_uri21  \\\n",
       "28  http://linked.data.gov.au/dataset/asgsed3/SA2/...   \n",
       "\n",
       "                                                 geom  \n",
       "28  MULTIPOLYGON (((151.413733024921 -33.465580583...  "
      ]
     },
     "execution_count": 163,
     "metadata": {},
     "output_type": "execute_result"
    }
   ],
   "source": [
    "SA2_Regions = SA2_Regions.drop(columns=['geometry', 'gcc_code21', 'gcc_name21', 'ste_code21', 'ste_name21', 'aus_code21', 'aus_name21'])\n",
    "SA2_Regions.head(1)"
   ]
  },
  {
   "attachments": {},
   "cell_type": "markdown",
   "metadata": {},
   "source": [
    "Businesses dataset:\n",
    "\n",
    "change the name of columns start with number, to match the SQL formate\\n\n",
    "\n",
    "set sa2_code as primary key, check if any row has empty primary key"
   ]
  },
  {
   "cell_type": "code",
   "execution_count": 109,
   "metadata": {},
   "outputs": [
    {
     "name": "stdout",
     "output_type": "stream",
     "text": [
      "0 rows with empty primary key have been deleted\n"
     ]
    },
    {
     "data": {
      "text/html": [
       "<div>\n",
       "<style scoped>\n",
       "    .dataframe tbody tr th:only-of-type {\n",
       "        vertical-align: middle;\n",
       "    }\n",
       "\n",
       "    .dataframe tbody tr th {\n",
       "        vertical-align: top;\n",
       "    }\n",
       "\n",
       "    .dataframe thead th {\n",
       "        text-align: right;\n",
       "    }\n",
       "</style>\n",
       "<table border=\"1\" class=\"dataframe\">\n",
       "  <thead>\n",
       "    <tr style=\"text-align: right;\">\n",
       "      <th></th>\n",
       "      <th>industry_code</th>\n",
       "      <th>industry_name</th>\n",
       "      <th>sa2_code</th>\n",
       "      <th>sa2_name</th>\n",
       "      <th>businesses_0_50k</th>\n",
       "      <th>businesses_50k_200k</th>\n",
       "      <th>businesses_200k_2m</th>\n",
       "      <th>businesses_2m_5m</th>\n",
       "      <th>businesses_5m_10m</th>\n",
       "      <th>businesses_10m_or_more</th>\n",
       "      <th>total_businesses</th>\n",
       "    </tr>\n",
       "  </thead>\n",
       "  <tbody>\n",
       "    <tr>\n",
       "      <th>0</th>\n",
       "      <td>A</td>\n",
       "      <td>Agriculture, Forestry and Fishing</td>\n",
       "      <td>101021007</td>\n",
       "      <td>Braidwood</td>\n",
       "      <td>136</td>\n",
       "      <td>92</td>\n",
       "      <td>63</td>\n",
       "      <td>4</td>\n",
       "      <td>0</td>\n",
       "      <td>0</td>\n",
       "      <td>296</td>\n",
       "    </tr>\n",
       "  </tbody>\n",
       "</table>\n",
       "</div>"
      ],
      "text/plain": [
       "  industry_code                      industry_name   sa2_code   sa2_name  \\\n",
       "0             A  Agriculture, Forestry and Fishing  101021007  Braidwood   \n",
       "\n",
       "   businesses_0_50k  businesses_50k_200k  businesses_200k_2m  \\\n",
       "0               136                   92                  63   \n",
       "\n",
       "   businesses_2m_5m  businesses_5m_10m  businesses_10m_or_more  \\\n",
       "0                 4                  0                       0   \n",
       "\n",
       "   total_businesses  \n",
       "0               296  "
      ]
     },
     "execution_count": 109,
     "metadata": {},
     "output_type": "execute_result"
    }
   ],
   "source": [
    "businesses = pd.read_csv('Businesses.csv')\n",
    "\n",
    "column_mapping = {\n",
    "    '0_to_50k_businesses': 'businesses_0_50k',\n",
    "    '50k_to_200k_businesses': 'businesses_50k_200k',\n",
    "    '200k_to_2m_businesses': 'businesses_200k_2m',\n",
    "    '2m_to_5m_businesses': 'businesses_2m_5m',\n",
    "    '5m_to_10m_businesses': 'businesses_5m_10m',\n",
    "    '10m_or_more_businesses': 'businesses_10m_or_more',\n",
    "    'total_businesses': 'total_businesses'\n",
    "}\n",
    "businesses.rename(columns=column_mapping, inplace=True)\n",
    "\n",
    "# Check for missing values in the 'sa2_code' column, as this is the primary key\n",
    "missing_sa2_code = businesses['sa2_code'].isnull()\n",
    "print (f\"{businesses['sa2_code'].isnull().sum()} rows with empty primary key have been deleted\")\n",
    "businesses = businesses[~missing_sa2_code]\n",
    "businesses.columns = map(str.lower, businesses.columns)\n",
    "\n",
    "businesses.head(1)\n",
    "\n",
    "\n"
   ]
  },
  {
   "cell_type": "code",
   "execution_count": 23,
   "metadata": {},
   "outputs": [
    {
     "data": {
      "text/plain": [
       "industry_code             object\n",
       "industry_name             object\n",
       "sa2_code                   int64\n",
       "sa2_name                  object\n",
       "businesses_0-50k           int64\n",
       "businesses_50k-200k        int64\n",
       "businesses_200k-2m         int64\n",
       "businesses_2m-5m           int64\n",
       "businesses_5m-10m          int64\n",
       "businesses_10m_or_more     int64\n",
       "total_businesses           int64\n",
       "dtype: object"
      ]
     },
     "execution_count": 23,
     "metadata": {},
     "output_type": "execute_result"
    }
   ],
   "source": [
    "businesses.dtypes"
   ]
  },
  {
   "attachments": {},
   "cell_type": "markdown",
   "metadata": {},
   "source": [
    "Income dataset:"
   ]
  },
  {
   "cell_type": "code",
   "execution_count": 96,
   "metadata": {},
   "outputs": [
    {
     "name": "stdout",
     "output_type": "stream",
     "text": [
      "0 rows with empty primary key have been deleted\n"
     ]
    },
    {
     "data": {
      "text/plain": [
       "sa2_code21        int64\n",
       "sa2_name         object\n",
       "earners          object\n",
       "median_age       object\n",
       "median_income    object\n",
       "mean_income      object\n",
       "dtype: object"
      ]
     },
     "execution_count": 96,
     "metadata": {},
     "output_type": "execute_result"
    }
   ],
   "source": [
    "income = pd.read_csv('Income.csv')\n",
    "\n",
    "missing_sa2_code = income['sa2_code21'].isnull()\n",
    "print (f\"{income['sa2_code21'].isnull().sum()} rows with empty primary key have been deleted\")\n",
    "income = income[~missing_sa2_code]\n",
    "\n",
    "income.dtypes\n"
   ]
  },
  {
   "attachments": {},
   "cell_type": "markdown",
   "metadata": {},
   "source": [
    "Population dataset:"
   ]
  },
  {
   "cell_type": "code",
   "execution_count": 110,
   "metadata": {},
   "outputs": [
    {
     "data": {
      "text/plain": [
       "sa2_code               int64\n",
       "sa2_name              object\n",
       "people_0_4             int64\n",
       "people_5_9             int64\n",
       "people_10_14           int64\n",
       "people_15_19           int64\n",
       "people_20_24           int64\n",
       "people_25_29           int64\n",
       "people_30_34           int64\n",
       "people_35_39           int64\n",
       "people_40_44           int64\n",
       "people_45_49           int64\n",
       "people_50_54           int64\n",
       "people_55_59           int64\n",
       "people_60_64           int64\n",
       "people_65_69           int64\n",
       "people_70_74           int64\n",
       "people_75_79           int64\n",
       "people_80_84           int64\n",
       "people_85_and_over     int64\n",
       "total_people           int64\n",
       "dtype: object"
      ]
     },
     "execution_count": 110,
     "metadata": {},
     "output_type": "execute_result"
    }
   ],
   "source": [
    "population = pd.read_csv('Population.csv')\n",
    "\n",
    "column_mapping = {\n",
    "    '0-4_people': 'people_0_4',\n",
    "    '5-9_people': 'people_5_9',\n",
    "    '10-14_people': 'people_10_14',\n",
    "    '15-19_people': 'people_15_19',\n",
    "    '20-24_people': 'people_20_24',\n",
    "    '25-29_people': 'people_25_29',\n",
    "    '30-34_people': 'people_30_34',\n",
    "    '35-39_people': 'people_35_39',\n",
    "    '40-44_people': 'people_40_44',\n",
    "    '45-49_people': 'people_45_49',\n",
    "    '50-54_people': 'people_50_54',\n",
    "    '55-59_people': 'people_55_59',\n",
    "    '60-64_people': 'people_60_64',\n",
    "    '65-69_people': 'people_65_69',\n",
    "    '70-74_people': 'people_70_74',\n",
    "    '75-79_people': 'people_75_79',\n",
    "    '80-84_people': 'people_80_84',\n",
    "    '85-and-over_people': 'people_85_and_over',\n",
    "    'total_people': 'total_people'\n",
    "}\n",
    "population.rename(columns=column_mapping, inplace=True)\n",
    "population.dtypes\n"
   ]
  },
  {
   "cell_type": "code",
   "execution_count": 161,
   "metadata": {},
   "outputs": [
    {
     "data": {
      "text/html": [
       "<div>\n",
       "<style scoped>\n",
       "    .dataframe tbody tr th:only-of-type {\n",
       "        vertical-align: middle;\n",
       "    }\n",
       "\n",
       "    .dataframe tbody tr th {\n",
       "        vertical-align: top;\n",
       "    }\n",
       "\n",
       "    .dataframe thead th {\n",
       "        text-align: right;\n",
       "    }\n",
       "</style>\n",
       "<table border=\"1\" class=\"dataframe\">\n",
       "  <thead>\n",
       "    <tr style=\"text-align: right;\">\n",
       "      <th></th>\n",
       "      <th>use_id</th>\n",
       "      <th>catch_type</th>\n",
       "      <th>use_desc</th>\n",
       "      <th>add_date</th>\n",
       "      <th>kindergart</th>\n",
       "      <th>year1</th>\n",
       "      <th>year2</th>\n",
       "      <th>year3</th>\n",
       "      <th>year4</th>\n",
       "      <th>year5</th>\n",
       "      <th>year6</th>\n",
       "      <th>year7</th>\n",
       "      <th>year8</th>\n",
       "      <th>year9</th>\n",
       "      <th>year10</th>\n",
       "      <th>year11</th>\n",
       "      <th>year12</th>\n",
       "      <th>geom</th>\n",
       "    </tr>\n",
       "  </thead>\n",
       "  <tbody>\n",
       "    <tr>\n",
       "      <th>0</th>\n",
       "      <td>8416</td>\n",
       "      <td>HIGH_COED</td>\n",
       "      <td>Ku-ring-gai HS</td>\n",
       "      <td>2023-01-14</td>\n",
       "      <td>0</td>\n",
       "      <td>0</td>\n",
       "      <td>0</td>\n",
       "      <td>0</td>\n",
       "      <td>0</td>\n",
       "      <td>0</td>\n",
       "      <td>0</td>\n",
       "      <td>2024</td>\n",
       "      <td>2024</td>\n",
       "      <td>2024</td>\n",
       "      <td>2024</td>\n",
       "      <td>2024</td>\n",
       "      <td>2024</td>\n",
       "      <td>MULTIPOLYGON (((151.19848917708944 -33.5398987...</td>\n",
       "    </tr>\n",
       "  </tbody>\n",
       "</table>\n",
       "</div>"
      ],
      "text/plain": [
       "  use_id catch_type        use_desc   add_date  kindergart  year1  year2  \\\n",
       "0   8416  HIGH_COED  Ku-ring-gai HS 2023-01-14           0      0      0   \n",
       "\n",
       "   year3  year4  year5  year6  year7  year8  year9  year10  year11  year12  \\\n",
       "0      0      0      0      0   2024   2024   2024    2024    2024    2024   \n",
       "\n",
       "                                                geom  \n",
       "0  MULTIPOLYGON (((151.19848917708944 -33.5398987...  "
      ]
     },
     "execution_count": 161,
     "metadata": {},
     "output_type": "execute_result"
    }
   ],
   "source": [
    "schools_future = gpd.read_file('catchments/catchments_future.shp')\n",
    "\n",
    "schools_futureog = schools_future.copy() \n",
    "schools_future['geom'] = schools_future['geometry'].apply(lambda x: create_wkt_element(geom=x,srid=srid)) \n",
    "schools_future = schools_future.drop(columns=\"geometry\")\n",
    "schools_future['ADD_DATE'] = schools_future['ADD_DATE'].apply(lambda x: datetime.strptime(str(x), \"%Y%m%d\") if x is not None else None)\n",
    "schools_future.columns = map(str.lower, schools_future.columns)\n",
    "schools_future.head(1)"
   ]
  },
  {
   "cell_type": "code",
   "execution_count": 125,
   "metadata": {},
   "outputs": [
    {
     "name": "stdout",
     "output_type": "stream",
     "text": [
      "use_id                object\n",
      "catch_type            object\n",
      "use_desc              object\n",
      "add_date      datetime64[ns]\n",
      "kindergart            object\n",
      "year1                 object\n",
      "year2                 object\n",
      "year3                 object\n",
      "year4                 object\n",
      "year5                 object\n",
      "year6                 object\n",
      "year7                 object\n",
      "year8                 object\n",
      "year9                 object\n",
      "year10                object\n",
      "year11                object\n",
      "year12                object\n",
      "priority              object\n",
      "geom                  object\n",
      "dtype: object\n"
     ]
    }
   ],
   "source": [
    "schools_primary = gpd.read_file('catchments/catchments_primary.shp')\n",
    "\n",
    "schools_primaryog = schools_primary.copy() \n",
    "schools_primary['geom'] = schools_primary['geometry'].apply(lambda x: create_wkt_element(geom=x, srid=srid)) \n",
    "schools_primary = schools_primary.drop(columns=\"geometry\")\n",
    "\n",
    "schools_primary['ADD_DATE'] = schools_primary['ADD_DATE'].apply(lambda x: datetime.strptime(str(x), \"%Y%m%d\") if x is not None else None)\n",
    "\n",
    "schools_primary.columns = map(str.lower, schools_primary.columns)\n",
    "\n",
    "print(schools_primary.dtypes)"
   ]
  },
  {
   "cell_type": "code",
   "execution_count": 127,
   "metadata": {},
   "outputs": [
    {
     "data": {
      "text/plain": [
       "use_id                object\n",
       "catch_type            object\n",
       "use_desc              object\n",
       "add_date      datetime64[ns]\n",
       "kindergart            object\n",
       "year1                 object\n",
       "year2                 object\n",
       "year3                 object\n",
       "year4                 object\n",
       "year5                 object\n",
       "year6                 object\n",
       "year7                 object\n",
       "year8                 object\n",
       "year9                 object\n",
       "year10                object\n",
       "year11                object\n",
       "year12                object\n",
       "priority              object\n",
       "geom                  object\n",
       "dtype: object"
      ]
     },
     "execution_count": 127,
     "metadata": {},
     "output_type": "execute_result"
    }
   ],
   "source": [
    "schools_secondary = gpd.read_file('catchments/catchments_secondary.shp')\n",
    "\n",
    "schools_secondaryog = schools_secondary.copy() \n",
    "schools_secondary['geom'] = schools_secondary['geometry'].apply(lambda x: create_wkt_element(geom=x,srid=srid)) \n",
    "schools_secondary = schools_secondary.drop(columns=\"geometry\")\n",
    "schools_secondary['ADD_DATE'] = schools_secondary['ADD_DATE'].apply(lambda x: datetime.strptime(str(x), \"%Y%m%d\") if x is not None else None)\n",
    "\n",
    "schools_secondary.columns = map(str.lower, schools_secondary.columns)\n",
    "schools_secondary.dtypes"
   ]
  },
  {
   "cell_type": "code",
   "execution_count": 146,
   "metadata": {},
   "outputs": [
    {
     "name": "stdout",
     "output_type": "stream",
     "text": [
      "0 rows with empty primary key have been deleted\n"
     ]
    },
    {
     "data": {
      "text/html": [
       "<div>\n",
       "<style scoped>\n",
       "    .dataframe tbody tr th:only-of-type {\n",
       "        vertical-align: middle;\n",
       "    }\n",
       "\n",
       "    .dataframe tbody tr th {\n",
       "        vertical-align: top;\n",
       "    }\n",
       "\n",
       "    .dataframe thead th {\n",
       "        text-align: right;\n",
       "    }\n",
       "</style>\n",
       "<table border=\"1\" class=\"dataframe\">\n",
       "  <thead>\n",
       "    <tr style=\"text-align: right;\">\n",
       "      <th></th>\n",
       "      <th>stop_id</th>\n",
       "      <th>stop_code</th>\n",
       "      <th>stop_name</th>\n",
       "      <th>location_type</th>\n",
       "      <th>parent_station</th>\n",
       "      <th>wheelchair_boarding</th>\n",
       "      <th>platform_code</th>\n",
       "      <th>geom</th>\n",
       "    </tr>\n",
       "  </thead>\n",
       "  <tbody>\n",
       "    <tr>\n",
       "      <th>0</th>\n",
       "      <td>200039</td>\n",
       "      <td>200039.0</td>\n",
       "      <td>Central Station, Eddy Av, Stand A</td>\n",
       "      <td>NaN</td>\n",
       "      <td>200060</td>\n",
       "      <td>0</td>\n",
       "      <td>NaN</td>\n",
       "      <td>POINT (151.20666465471 -33.8822064874687)</td>\n",
       "    </tr>\n",
       "    <tr>\n",
       "      <th>1</th>\n",
       "      <td>200054</td>\n",
       "      <td>200054.0</td>\n",
       "      <td>Central Station, Eddy Av, Stand D</td>\n",
       "      <td>NaN</td>\n",
       "      <td>200060</td>\n",
       "      <td>0</td>\n",
       "      <td>NaN</td>\n",
       "      <td>POINT (151.20699145565 -33.8820421431408)</td>\n",
       "    </tr>\n",
       "    <tr>\n",
       "      <th>2</th>\n",
       "      <td>200060</td>\n",
       "      <td>NaN</td>\n",
       "      <td>Central Station</td>\n",
       "      <td>1.0</td>\n",
       "      <td>NaN</td>\n",
       "      <td>0</td>\n",
       "      <td>NaN</td>\n",
       "      <td>POINT (151.206292455081 -33.8840842535493)</td>\n",
       "    </tr>\n",
       "    <tr>\n",
       "      <th>3</th>\n",
       "      <td>201510</td>\n",
       "      <td>NaN</td>\n",
       "      <td>Redfern Station</td>\n",
       "      <td>1.0</td>\n",
       "      <td>NaN</td>\n",
       "      <td>0</td>\n",
       "      <td>NaN</td>\n",
       "      <td>POINT (151.198866071817 -33.8916900512711)</td>\n",
       "    </tr>\n",
       "    <tr>\n",
       "      <th>4</th>\n",
       "      <td>201646</td>\n",
       "      <td>201646.0</td>\n",
       "      <td>Redfern Station, Gibbons St, Stand B</td>\n",
       "      <td>NaN</td>\n",
       "      <td>201510</td>\n",
       "      <td>0</td>\n",
       "      <td>NaN</td>\n",
       "      <td>POINT (151.198881722942 -33.8933293130144)</td>\n",
       "    </tr>\n",
       "  </tbody>\n",
       "</table>\n",
       "</div>"
      ],
      "text/plain": [
       "  stop_id  stop_code                             stop_name  location_type  \\\n",
       "0  200039   200039.0     Central Station, Eddy Av, Stand A            NaN   \n",
       "1  200054   200054.0     Central Station, Eddy Av, Stand D            NaN   \n",
       "2  200060        NaN                       Central Station            1.0   \n",
       "3  201510        NaN                       Redfern Station            1.0   \n",
       "4  201646   201646.0  Redfern Station, Gibbons St, Stand B            NaN   \n",
       "\n",
       "  parent_station  wheelchair_boarding platform_code  \\\n",
       "0         200060                    0           NaN   \n",
       "1         200060                    0           NaN   \n",
       "2            NaN                    0           NaN   \n",
       "3            NaN                    0           NaN   \n",
       "4         201510                    0           NaN   \n",
       "\n",
       "                                         geom  \n",
       "0   POINT (151.20666465471 -33.8822064874687)  \n",
       "1   POINT (151.20699145565 -33.8820421431408)  \n",
       "2  POINT (151.206292455081 -33.8840842535493)  \n",
       "3  POINT (151.198866071817 -33.8916900512711)  \n",
       "4  POINT (151.198881722942 -33.8933293130144)  "
      ]
     },
     "execution_count": 146,
     "metadata": {},
     "output_type": "execute_result"
    }
   ],
   "source": [
    "stops = pd.read_csv('Stops.csv')\n",
    "\n",
    "# Check for missing values in the 'stop_id' column, as this is the primary key\n",
    "missing_stop_id = stops['stop_id'].isnull()\n",
    "print (f\"{stops['stop_id'].isnull().sum()} rows with empty primary key have been deleted\")\n",
    "stops = stops[~missing_stop_id]\n",
    "stops['geom'] = gpd.points_from_xy(stops.stop_lon, stops.stop_lat)\n",
    "stops = stops.drop(columns=['stop_lon', 'stop_lat'])\n",
    "stops['geom'] = stops['geom'].apply(lambda x: WKTElement(x.wkt, srid=srid))\n",
    "stops['geom'] = stops['geom'].apply(lambda x: str(x))\n",
    "stops.head()"
   ]
  },
  {
   "cell_type": "code",
   "execution_count": 121,
   "metadata": {},
   "outputs": [
    {
     "name": "stdout",
     "output_type": "stream",
     "text": [
      "0 rows with empty primary key have been deleted\n",
      "140 rows with empty geom have been deleted\n"
     ]
    },
    {
     "data": {
      "text/plain": [
       "fid                            object\n",
       "state                          object\n",
       "division_id                     int64\n",
       "division_name                  object\n",
       "polling_place_id                int64\n",
       "polling_place_type_id           int64\n",
       "polling_place_name             object\n",
       "premises_name                  object\n",
       "premises_address_1             object\n",
       "premises_address_2             object\n",
       "premises_address_3             object\n",
       "premises_suburb                object\n",
       "premises_state_abbreviation    object\n",
       "premises_post_code              int64\n",
       "the_geom                       object\n",
       "dtype: object"
      ]
     },
     "execution_count": 121,
     "metadata": {},
     "output_type": "execute_result"
    }
   ],
   "source": [
    "polling = pd.read_csv('PollingPlaces2019.csv')\n",
    "\n",
    "missing_FID = polling['FID'].isnull()\n",
    "print(f\"{missing_FID.sum()} rows with empty primary key have been deleted\")\n",
    "polling = polling[~missing_FID]\n",
    "\n",
    "missing_geom = polling['the_geom'].isnull()\n",
    "print(f\"{missing_geom.sum()} rows with empty geom have been deleted\")\n",
    "polling = polling[~missing_geom]\n",
    "\n",
    "polling['the_geom'] = polling['the_geom'].apply(lambda x: Point(float(x.split()[1].strip(\"(\")), float(x.split()[2].strip(\")\"))))\n",
    "\n",
    "polling['the_geom'] = polling['the_geom'].apply(lambda x: WKTElement(x.wkt, srid=srid))\n",
    "\n",
    "polling = polling.drop(columns=['latitude', 'longitude'])\n",
    "\n",
    "polling['premises_post_code'] = polling['premises_post_code'].astype(int)\n",
    "polling.columns = map(str.lower, polling.columns)\n",
    "\n",
    "polling.dtypes"
   ]
  },
  {
   "attachments": {},
   "cell_type": "markdown",
   "metadata": {},
   "source": [
    "### load dataset into SQL data base"
   ]
  },
  {
   "attachments": {},
   "cell_type": "markdown",
   "metadata": {},
   "source": [
    "create schema for each table"
   ]
  },
  {
   "cell_type": "code",
   "execution_count": 71,
   "metadata": {},
   "outputs": [
    {
     "data": {
      "text/html": [
       "<div>\n",
       "<style scoped>\n",
       "    .dataframe tbody tr th:only-of-type {\n",
       "        vertical-align: middle;\n",
       "    }\n",
       "\n",
       "    .dataframe tbody tr th {\n",
       "        vertical-align: top;\n",
       "    }\n",
       "\n",
       "    .dataframe thead th {\n",
       "        text-align: right;\n",
       "    }\n",
       "</style>\n",
       "<table border=\"1\" class=\"dataframe\">\n",
       "  <thead>\n",
       "    <tr style=\"text-align: right;\">\n",
       "      <th></th>\n",
       "      <th>postgis_version</th>\n",
       "    </tr>\n",
       "  </thead>\n",
       "  <tbody>\n",
       "    <tr>\n",
       "      <th>0</th>\n",
       "      <td>3.4 USE_GEOS=1 USE_PROJ=1 USE_STATS=1</td>\n",
       "    </tr>\n",
       "  </tbody>\n",
       "</table>\n",
       "</div>"
      ],
      "text/plain": [
       "                         postgis_version\n",
       "0  3.4 USE_GEOS=1 USE_PROJ=1 USE_STATS=1"
      ]
     },
     "execution_count": 71,
     "metadata": {},
     "output_type": "execute_result"
    }
   ],
   "source": [
    "# Connect to the database and specify the schema\n",
    "conn.execute('''\n",
    "CREATE SCHEMA IF NOT EXISTS sydney;\n",
    "SET search_path TO sydney;\n",
    "''')\n",
    "\n",
    "\n",
    "query(conn, \"select PostGIS_Version()\")"
   ]
  },
  {
   "cell_type": "code",
   "execution_count": 164,
   "metadata": {},
   "outputs": [
    {
     "data": {
      "text/plain": [
       "<sqlalchemy.engine.cursor.LegacyCursorResult at 0x15095c290>"
      ]
     },
     "execution_count": 164,
     "metadata": {},
     "output_type": "execute_result"
    }
   ],
   "source": [
    "conn.execute('''\n",
    "DROP TABLE IF EXISTS sydney.sa2_regions;\n",
    "CREATE TABLE sydney.sa2_regions (\n",
    "    sa2_code21 VARCHAR(20),\n",
    "    sa2_name21 VARCHAR(100),\n",
    "    chg_flag21 VARCHAR(2),\n",
    "    chg_lbl21 VARCHAR(100),\n",
    "    sa3_code21 VARCHAR(20),\n",
    "    sa3_name21 VARCHAR(100),\n",
    "    sa4_code21 VARCHAR(20),\n",
    "    sa4_name21 VARCHAR(100),\n",
    "    areasqkm21 NUMERIC,\n",
    "    loci_uri21 VARCHAR(500),\n",
    "    geom GEOMETRY(MULTIPOLYGON, 4326)\n",
    ");\n",
    "''')\n",
    "\n",
    "conn.execute('''\n",
    "DROP TABLE IF EXISTS sydney.businesses;\n",
    "CREATE TABLE sydney.businesses (\n",
    "    industry_code VARCHAR(20),\n",
    "    industry_name VARCHAR(100),\n",
    "    sa2_code INTEGER,\n",
    "    sa2_name VARCHAR(100),\n",
    "    businesses_0_50k INTEGER,\n",
    "    businesses_50k_200k INTEGER,\n",
    "    businesses_200k_2m INTEGER,\n",
    "    businesses_2m_5m INTEGER,\n",
    "    businesses_5m_10m INTEGER,\n",
    "    businesses_10m_or_more INTEGER,\n",
    "    total_businesses INTEGER\n",
    ");\n",
    "''')\n",
    "\n",
    "conn.execute('''\n",
    "DROP TABLE IF EXISTS sydney.income;\n",
    "CREATE TABLE sydney.income (\n",
    "    sa2_code21 INTEGER,\n",
    "    sa2_name VARCHAR(100),\n",
    "    earners VARCHAR(100),\n",
    "    median_age VARCHAR(100),\n",
    "    median_income VARCHAR(100),\n",
    "    mean_income VARCHAR(100)\n",
    ");\n",
    "''')\n",
    "\n",
    "conn.execute('''\n",
    "DROP TABLE IF EXISTS sydney.population;\n",
    "CREATE TABLE sydney.population (\n",
    "    sa2_code INTEGER,\n",
    "    sa2_name VARCHAR(100),\n",
    "    people_0_4 INTEGER,\n",
    "    people_5_9 INTEGER,\n",
    "    people_10_14 INTEGER,\n",
    "    people_15_19 INTEGER,\n",
    "    people_20_24 INTEGER,\n",
    "    people_25_29 INTEGER,\n",
    "    people_30_34 INTEGER,\n",
    "    people_35_39 INTEGER,\n",
    "    people_40_44 INTEGER,\n",
    "    people_45_49 INTEGER,\n",
    "    people_50_54 INTEGER,\n",
    "    people_55_59 INTEGER,\n",
    "    people_60_64 INTEGER,\n",
    "    people_65_69 INTEGER,\n",
    "    people_70_74 INTEGER,\n",
    "    people_75_79 INTEGER,\n",
    "    people_80_84 INTEGER,\n",
    "    people_85_and_over INTEGER,\n",
    "    total_people INTEGER\n",
    ");\n",
    "''')\n",
    "\n",
    "conn.execute('''\n",
    "DROP TABLE IF EXISTS sydney.stops;\n",
    "CREATE TABLE sydney.stops (\n",
    "    stop_id VARCHAR(100),\n",
    "    stop_code FLOAT,\n",
    "    stop_name VARCHAR(100),\n",
    "    location_type FLOAT,\n",
    "    parent_station VARCHAR(100),\n",
    "    wheelchair_boarding INTEGER,\n",
    "    platform_code VARCHAR(100),\n",
    "    geom GEOMETRY(POINT,4326)\n",
    ");\n",
    "''')\n",
    "\n",
    "conn.execute(\"\"\"\n",
    "DROP TABLE IF EXISTS sydney.schools_future;\n",
    "CREATE TABLE sydney.schools_future (\n",
    "    USE_ID VARCHAR(100),\n",
    "    CATCH_TYPE VARCHAR(100),\n",
    "    USE_DESC VARCHAR(100),\n",
    "    ADD_DATE TIMESTAMP,\n",
    "    KINDERGART INTEGER,\n",
    "    YEAR1 INTEGER,\n",
    "    YEAR2 INTEGER,\n",
    "    YEAR3 INTEGER,\n",
    "    YEAR4 INTEGER,\n",
    "    YEAR5 INTEGER,\n",
    "    YEAR6 INTEGER,\n",
    "    YEAR7 INTEGER,\n",
    "    YEAR8 INTEGER,\n",
    "    YEAR9 INTEGER,\n",
    "    YEAR10 INTEGER,\n",
    "    YEAR11 INTEGER,\n",
    "    YEAR12 INTEGER,\n",
    "    geom GEOMETRY(MULTIPOLYGON,4326)\n",
    ");\n",
    "\"\"\")\n",
    "\n",
    "conn.execute(\"\"\"\n",
    "DROP TABLE IF EXISTS sydney.schools_primary;\n",
    "CREATE TABLE sydney.schools_primary (\n",
    "    USE_ID VARCHAR(100),\n",
    "    CATCH_TYPE VARCHAR(100),\n",
    "    USE_DESC VARCHAR(100),\n",
    "    ADD_DATE TIMESTAMP,\n",
    "    KINDERGART VARCHAR(100),\n",
    "    YEAR1 VARCHAR(100),\n",
    "    YEAR2 VARCHAR(100),\n",
    "    YEAR3 VARCHAR(100),\n",
    "    YEAR4 VARCHAR(100),\n",
    "    YEAR5 VARCHAR(100),\n",
    "    YEAR6 VARCHAR(100),\n",
    "    YEAR7 VARCHAR(100),\n",
    "    YEAR8 VARCHAR(100),\n",
    "    YEAR9 VARCHAR(100),\n",
    "    YEAR10 VARCHAR(100),\n",
    "    YEAR11 VARCHAR(100),\n",
    "    YEAR12 VARCHAR(100),\n",
    "    PRIORITY VARCHAR(100),\n",
    "    geom GEOMETRY(MULTIPOLYGON,4326)\n",
    ");\n",
    "\"\"\")\n",
    "\n",
    "conn.execute(\"\"\"\n",
    "DROP TABLE IF EXISTS sydney.schools_secondary;\n",
    "CREATE TABLE sydney.schools_secondary (\n",
    "    USE_ID VARCHAR(100),\n",
    "    CATCH_TYPE VARCHAR(100),\n",
    "    USE_DESC VARCHAR(100),\n",
    "    ADD_DATE TIMESTAMP,\n",
    "    KINDERGART VARCHAR(100),\n",
    "    YEAR1 VARCHAR(100),\n",
    "    YEAR2 VARCHAR(100),\n",
    "    YEAR3 VARCHAR(100),\n",
    "    YEAR4 VARCHAR(100),\n",
    "    YEAR5 VARCHAR(100),\n",
    "    YEAR6 VARCHAR(100),\n",
    "    YEAR7 VARCHAR(100),\n",
    "    YEAR8 VARCHAR(100),\n",
    "    YEAR9 VARCHAR(100),\n",
    "    YEAR10 VARCHAR(100),\n",
    "    YEAR11 VARCHAR(100),\n",
    "    YEAR12 VARCHAR(100),\n",
    "    PRIORITY VARCHAR(100),\n",
    "    geom GEOMETRY(MULTIPOLYGON,4326)\n",
    ");\n",
    "\"\"\")\n",
    "\n",
    "\n",
    "conn.execute(\"\"\"\n",
    "CREATE SCHEMA IF NOT EXISTS sydney;\n",
    "DROP TABLE IF EXISTS sydney.polling;\n",
    "CREATE TABLE sydney.polling (\n",
    "    FID VARCHAR(100),\n",
    "    state VARCHAR(100),\n",
    "    division_id INTEGER,\n",
    "    division_name VARCHAR(100),\n",
    "    polling_place_id INTEGER,\n",
    "    polling_place_type_id INTEGER,\n",
    "    polling_place_name VARCHAR(100),\n",
    "    premises_name VARCHAR(100),\n",
    "    premises_address_1 VARCHAR(100),\n",
    "    premises_address_2 VARCHAR(100),\n",
    "    premises_address_3 VARCHAR(100),\n",
    "    premises_suburb VARCHAR(100),\n",
    "    premises_state_abbreviation VARCHAR(100),\n",
    "    premises_post_code INTEGER,\n",
    "    the_geom GEOMETRY(POINT,4326)\n",
    ");\n",
    "\"\"\")\n",
    "\n"
   ]
  },
  {
   "cell_type": "code",
   "execution_count": 144,
   "metadata": {},
   "outputs": [
    {
     "data": {
      "text/plain": [
       "373"
      ]
     },
     "execution_count": 144,
     "metadata": {},
     "output_type": "execute_result"
    }
   ],
   "source": [
    "businesses.to_sql(\"businesses\", con=conn, schema=\"sydney\", if_exists='append', index=False)\n",
    "income.to_sql(\"income\", con=conn, schema=\"sydney\", if_exists='append', index=False)\n",
    "population.to_sql(\"population\", con=conn, schema=\"sydney\", if_exists='append', index=False)\n",
    "stops.to_sql(\"stops\", con=conn, schema=\"sydney\", if_exists='append', index=False)\n"
   ]
  },
  {
   "cell_type": "code",
   "execution_count": 165,
   "metadata": {},
   "outputs": [
    {
     "data": {
      "text/plain": [
       "790"
      ]
     },
     "execution_count": 165,
     "metadata": {},
     "output_type": "execute_result"
    }
   ],
   "source": [
    "\n",
    "SA2_Regions.to_sql(\"sa2_regions\", con=conn, schema=\"sydney\", if_exists='append', index=False, dtype={'geom': Geometry('MULTIPOLYGON', srid)})\n",
    "schools_future.to_sql(\"schools_future\", con=conn, schema=\"sydney\", if_exists='append', index=False, dtype={'geom': Geometry('MULTIPOLYGON', srid)})\n",
    "schools_primary.to_sql(\"schools_primary\", con=conn, schema=\"sydney\", if_exists='append', index=False, dtype={'geom': Geometry('MULTIPOLYGON', srid)})\n",
    "schools_secondary.to_sql(\"schools_secondary\", con=conn, schema=\"sydney\", if_exists='append', index=False, dtype={'geom': Geometry('MULTIPOLYGON', srid)})\n",
    "polling.to_sql('polling', con=conn, schema=\"sydney\", if_exists='append', index=False, dtype={'the_geom': Geometry('POINT', srid)})\n"
   ]
  },
  {
   "cell_type": "code",
   "execution_count": 130,
   "metadata": {},
   "outputs": [
    {
     "data": {
      "text/html": [
       "<div>\n",
       "<style scoped>\n",
       "    .dataframe tbody tr th:only-of-type {\n",
       "        vertical-align: middle;\n",
       "    }\n",
       "\n",
       "    .dataframe tbody tr th {\n",
       "        vertical-align: top;\n",
       "    }\n",
       "\n",
       "    .dataframe thead th {\n",
       "        text-align: right;\n",
       "    }\n",
       "</style>\n",
       "<table border=\"1\" class=\"dataframe\">\n",
       "  <thead>\n",
       "    <tr style=\"text-align: right;\">\n",
       "      <th></th>\n",
       "      <th>table_name</th>\n",
       "    </tr>\n",
       "  </thead>\n",
       "  <tbody>\n",
       "    <tr>\n",
       "      <th>0</th>\n",
       "      <td>geography_columns</td>\n",
       "    </tr>\n",
       "    <tr>\n",
       "      <th>1</th>\n",
       "      <td>geometry_columns</td>\n",
       "    </tr>\n",
       "    <tr>\n",
       "      <th>2</th>\n",
       "      <td>spatial_ref_sys</td>\n",
       "    </tr>\n",
       "    <tr>\n",
       "      <th>3</th>\n",
       "      <td>businesses</td>\n",
       "    </tr>\n",
       "    <tr>\n",
       "      <th>4</th>\n",
       "      <td>population</td>\n",
       "    </tr>\n",
       "    <tr>\n",
       "      <th>5</th>\n",
       "      <td>sa2_regions</td>\n",
       "    </tr>\n",
       "    <tr>\n",
       "      <th>6</th>\n",
       "      <td>income</td>\n",
       "    </tr>\n",
       "    <tr>\n",
       "      <th>7</th>\n",
       "      <td>stops</td>\n",
       "    </tr>\n",
       "    <tr>\n",
       "      <th>8</th>\n",
       "      <td>schools_future</td>\n",
       "    </tr>\n",
       "    <tr>\n",
       "      <th>9</th>\n",
       "      <td>schools_primary</td>\n",
       "    </tr>\n",
       "    <tr>\n",
       "      <th>10</th>\n",
       "      <td>schools_secondary</td>\n",
       "    </tr>\n",
       "    <tr>\n",
       "      <th>11</th>\n",
       "      <td>polling</td>\n",
       "    </tr>\n",
       "  </tbody>\n",
       "</table>\n",
       "</div>"
      ],
      "text/plain": [
       "           table_name\n",
       "0   geography_columns\n",
       "1    geometry_columns\n",
       "2     spatial_ref_sys\n",
       "3          businesses\n",
       "4          population\n",
       "5         sa2_regions\n",
       "6              income\n",
       "7               stops\n",
       "8      schools_future\n",
       "9     schools_primary\n",
       "10  schools_secondary\n",
       "11            polling"
      ]
     },
     "execution_count": 130,
     "metadata": {},
     "output_type": "execute_result"
    }
   ],
   "source": [
    "sql = \"\"\"\n",
    "SELECT table_name\n",
    "FROM information_schema.tables\n",
    "WHERE table_schema = 'sydney'\n",
    "\"\"\"\n",
    "query(conn, sql)"
   ]
  }
 ],
 "metadata": {
  "kernelspec": {
   "display_name": "base",
   "language": "python",
   "name": "python3"
  },
  "language_info": {
   "codemirror_mode": {
    "name": "ipython",
    "version": 3
   },
   "file_extension": ".py",
   "mimetype": "text/x-python",
   "name": "python",
   "nbconvert_exporter": "python",
   "pygments_lexer": "ipython3",
   "version": "3.11.5"
  },
  "orig_nbformat": 4,
  "vscode": {
   "interpreter": {
    "hash": "2c6df6eff804cff75c0bd8fd57c2e86e598c09abe30863c291434d1af42d0b04"
   }
  }
 },
 "nbformat": 4,
 "nbformat_minor": 2
}
